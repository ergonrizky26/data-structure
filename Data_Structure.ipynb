{
  "nbformat": 4,
  "nbformat_minor": 0,
  "metadata": {
    "colab": {
      "provenance": [],
      "authorship_tag": "ABX9TyPY0WhJ6zO9T+q69tMNLrxs",
      "include_colab_link": true
    },
    "kernelspec": {
      "name": "python3",
      "display_name": "Python 3"
    },
    "language_info": {
      "name": "python"
    }
  },
  "cells": [
    {
      "cell_type": "markdown",
      "metadata": {
        "id": "view-in-github",
        "colab_type": "text"
      },
      "source": [
        "<a href=\"https://colab.research.google.com/github/ergonrizky26/data-structure/blob/main/Data_Structure.ipynb\" target=\"_parent\"><img src=\"https://colab.research.google.com/assets/colab-badge.svg\" alt=\"Open In Colab\"/></a>"
      ]
    },
    {
      "cell_type": "markdown",
      "source": [
        "## LIST"
      ],
      "metadata": {
        "id": "dVjXMJg9IuCH"
      }
    },
    {
      "cell_type": "markdown",
      "source": [
        "\n",
        "\n",
        "*   List berisi koleksi nilai/data\n",
        "*   List bisa berubah\n",
        "*   List bisa berisi tipe data apapun dan tidak harus semua data berisi tipe data yang sama\n",
        "\n"
      ],
      "metadata": {
        "id": "-M1jtO5lIyo9"
      }
    },
    {
      "cell_type": "code",
      "execution_count": 34,
      "metadata": {
        "id": "k5e7yOHFIjCl"
      },
      "outputs": [],
      "source": [
        "A = ['Jakarta', 'Bali', 'Jogja', 'Manado'] # Terdapat 4 elemen\n",
        "B = ['Ibi', 0, True] # Terdapat 3 elemen\n",
        "C = [2, 1] # Terdapat 2 elemen"
      ]
    },
    {
      "cell_type": "markdown",
      "source": [
        "### Indexing"
      ],
      "metadata": {
        "id": "BSTCJ8_qJcr7"
      }
    },
    {
      "cell_type": "code",
      "source": [
        "print(A[0]) # memanggil elemen pertama\n",
        "print(A[1]) # memanggil elemen kedua\n",
        "print(A[-1]) # memanggil elemen awal dari posisi terakhir\n",
        "print(A[-2]) # memanggil elemen kedua dari posisi terakhir"
      ],
      "metadata": {
        "colab": {
          "base_uri": "https://localhost:8080/"
        },
        "id": "7fIC3xifJYC8",
        "outputId": "2fb38a13-59c7-490b-d245-3e08cc99bd2f"
      },
      "execution_count": 35,
      "outputs": [
        {
          "output_type": "stream",
          "name": "stdout",
          "text": [
            "Jakarta\n",
            "Bali\n",
            "Manado\n",
            "Jogja\n"
          ]
        }
      ]
    },
    {
      "cell_type": "markdown",
      "source": [
        "### Slicing"
      ],
      "metadata": {
        "id": "UZb1S2vaJvgt"
      }
    },
    {
      "cell_type": "code",
      "source": [
        "print(A[:2]) # memanggil index 0 dan 1\n",
        "print(A[1:2]) # memangil index 1 saja\n",
        "print(A[0:4:2]) # memanggil index 0 dan 2"
      ],
      "metadata": {
        "colab": {
          "base_uri": "https://localhost:8080/"
        },
        "id": "mkPttkY9Jt9V",
        "outputId": "3eb2990f-d88b-45a6-d4b4-fb8dcda80e13"
      },
      "execution_count": 36,
      "outputs": [
        {
          "output_type": "stream",
          "name": "stdout",
          "text": [
            "['Jakarta', 'Bali']\n",
            "['Bali']\n",
            "['Jakarta', 'Jogja']\n"
          ]
        }
      ]
    },
    {
      "cell_type": "code",
      "source": [
        "A[1] = 'Surabaya' # mengubah/update nilai pada list\n",
        "print(A)"
      ],
      "metadata": {
        "colab": {
          "base_uri": "https://localhost:8080/"
        },
        "id": "vDCzdT9XKE0E",
        "outputId": "b57348eb-f34e-4758-b2d4-89fbe9759816"
      },
      "execution_count": 37,
      "outputs": [
        {
          "output_type": "stream",
          "name": "stdout",
          "text": [
            "['Jakarta', 'Surabaya', 'Jogja', 'Manado']\n"
          ]
        }
      ]
    },
    {
      "cell_type": "code",
      "source": [
        "result = A + B # menggabungkan 2 list \n",
        "print(result)"
      ],
      "metadata": {
        "colab": {
          "base_uri": "https://localhost:8080/"
        },
        "id": "FUZIlOSHK_Rj",
        "outputId": "1ac5e8a1-fb59-49c0-96dd-d0452c30dc79"
      },
      "execution_count": 38,
      "outputs": [
        {
          "output_type": "stream",
          "name": "stdout",
          "text": [
            "['Jakarta', 'Surabaya', 'Jogja', 'Manado', 'Ibi', 0, True]\n"
          ]
        }
      ]
    },
    {
      "cell_type": "code",
      "source": [
        "A.append('Balikpapan') # menambah nilai pada list dengan posisi index paling terakhir\n",
        "print(A)\n",
        "A.insert(2, 'Budi') # menambah/memasukkan nilai pada list dengan elemen tertentu\n",
        "print(A)"
      ],
      "metadata": {
        "colab": {
          "base_uri": "https://localhost:8080/"
        },
        "id": "9LgKNT5DLVV1",
        "outputId": "92850d1f-f1f8-4ba8-97e8-33187f6eabfd"
      },
      "execution_count": 39,
      "outputs": [
        {
          "output_type": "stream",
          "name": "stdout",
          "text": [
            "['Jakarta', 'Surabaya', 'Jogja', 'Manado', 'Balikpapan']\n",
            "['Jakarta', 'Surabaya', 'Budi', 'Jogja', 'Manado', 'Balikpapan']\n"
          ]
        }
      ]
    },
    {
      "cell_type": "code",
      "source": [
        "del(A[0]) # delete nilai pada list dengan elemen tertentu\n",
        "print(A)"
      ],
      "metadata": {
        "colab": {
          "base_uri": "https://localhost:8080/"
        },
        "id": "S6KCsQvFLqHt",
        "outputId": "129317d7-39ac-4cae-823b-aca1031730ce"
      },
      "execution_count": 40,
      "outputs": [
        {
          "output_type": "stream",
          "name": "stdout",
          "text": [
            "['Surabaya', 'Budi', 'Jogja', 'Manado', 'Balikpapan']\n"
          ]
        }
      ]
    },
    {
      "cell_type": "code",
      "source": [
        "A.remove('Surabaya') # menghapus nilai pada list\n",
        "print(A)"
      ],
      "metadata": {
        "colab": {
          "base_uri": "https://localhost:8080/"
        },
        "id": "bD9ULq65L2-j",
        "outputId": "ad96a687-6f74-485a-fc6f-2f438e63e9cb"
      },
      "execution_count": 41,
      "outputs": [
        {
          "output_type": "stream",
          "name": "stdout",
          "text": [
            "['Budi', 'Jogja', 'Manado', 'Balikpapan']\n"
          ]
        }
      ]
    },
    {
      "cell_type": "code",
      "source": [
        "print(len(A)) # menghitung panjang elemen pada list"
      ],
      "metadata": {
        "colab": {
          "base_uri": "https://localhost:8080/"
        },
        "id": "tFj7jw0SL-3q",
        "outputId": "a08f5f44-2348-4ca9-b3a4-f4fd8547a019"
      },
      "execution_count": 42,
      "outputs": [
        {
          "output_type": "stream",
          "name": "stdout",
          "text": [
            "4\n"
          ]
        }
      ]
    },
    {
      "cell_type": "code",
      "source": [
        "A = []\n",
        "type(A)"
      ],
      "metadata": {
        "colab": {
          "base_uri": "https://localhost:8080/"
        },
        "id": "z1mfvogtMeYx",
        "outputId": "cb43409d-afe0-43f2-b414-270891840e72"
      },
      "execution_count": 43,
      "outputs": [
        {
          "output_type": "execute_result",
          "data": {
            "text/plain": [
              "list"
            ]
          },
          "metadata": {},
          "execution_count": 43
        }
      ]
    },
    {
      "cell_type": "code",
      "source": [
        "A.append(1)\n",
        "print(A)"
      ],
      "metadata": {
        "colab": {
          "base_uri": "https://localhost:8080/"
        },
        "id": "beXwv7I2MnG-",
        "outputId": "1bf522ce-1502-46f7-dd64-cc7c3abd907c"
      },
      "execution_count": 44,
      "outputs": [
        {
          "output_type": "stream",
          "name": "stdout",
          "text": [
            "[1]\n"
          ]
        }
      ]
    },
    {
      "cell_type": "markdown",
      "source": [
        "## TUPLE"
      ],
      "metadata": {
        "id": "46szh-mBMwUG"
      }
    },
    {
      "cell_type": "markdown",
      "source": [
        "Sama dengan list namun tidak dapat merubah nilai elemen suatu tuple "
      ],
      "metadata": {
        "id": "BuMe3nivP-S3"
      }
    },
    {
      "cell_type": "code",
      "source": [
        "A = ('Jakarta', 'Bali', 'Jogja', 2)"
      ],
      "metadata": {
        "id": "44UW2_mTMrYE"
      },
      "execution_count": 45,
      "outputs": []
    },
    {
      "cell_type": "code",
      "source": [
        "print(A[0:2])\n",
        "print(A[0])"
      ],
      "metadata": {
        "colab": {
          "base_uri": "https://localhost:8080/"
        },
        "id": "0-F-TcmlQO8C",
        "outputId": "8724dcde-4c5f-44e1-970d-d8107ad536e9"
      },
      "execution_count": 46,
      "outputs": [
        {
          "output_type": "stream",
          "name": "stdout",
          "text": [
            "('Jakarta', 'Bali')\n",
            "Jakarta\n"
          ]
        }
      ]
    },
    {
      "cell_type": "code",
      "source": [
        "A = ()\n",
        "A = (1,)\n",
        "type(A)"
      ],
      "metadata": {
        "colab": {
          "base_uri": "https://localhost:8080/"
        },
        "id": "97QAnP4YRbNM",
        "outputId": "576357fb-7cd2-4d9b-888b-36bdbc95ff2b"
      },
      "execution_count": 47,
      "outputs": [
        {
          "output_type": "execute_result",
          "data": {
            "text/plain": [
              "tuple"
            ]
          },
          "metadata": {},
          "execution_count": 47
        }
      ]
    },
    {
      "cell_type": "markdown",
      "source": [
        "## SET"
      ],
      "metadata": {
        "id": "RY4lBjjkSXQ5"
      }
    },
    {
      "cell_type": "markdown",
      "source": [
        "\n",
        "\n",
        "1.   Set tidak memiliki koordinat/index tiap anggotanya, jadi untuk set posisi anggota dianggap tidak penting \n",
        "2.   Set tidak dapat memiliki lebih dari satu anggota dengan nilai yang sama\n",
        "\n"
      ],
      "metadata": {
        "id": "mAX_4IciSbjE"
      }
    },
    {
      "cell_type": "code",
      "source": [
        "A = {4, 5, 6, 2}"
      ],
      "metadata": {
        "id": "XUNeiGKuR35W"
      },
      "execution_count": 48,
      "outputs": []
    },
    {
      "cell_type": "code",
      "source": [
        "# print(A[1])  # tidak bisa dilakukan indexing"
      ],
      "metadata": {
        "id": "d-qs_q4cTKyk"
      },
      "execution_count": 49,
      "outputs": []
    },
    {
      "cell_type": "code",
      "source": [
        "A.discard(4) # untuk membuang angka\n",
        "print(A)"
      ],
      "metadata": {
        "colab": {
          "base_uri": "https://localhost:8080/"
        },
        "id": "hTlynO0mTMbL",
        "outputId": "fcecaeeb-7de7-4890-eb92-5d8ae9b85807"
      },
      "execution_count": 50,
      "outputs": [
        {
          "output_type": "stream",
          "name": "stdout",
          "text": [
            "{2, 5, 6}\n"
          ]
        }
      ]
    },
    {
      "cell_type": "code",
      "source": [
        "A.add(1) # menambah angka\n",
        "print(A)"
      ],
      "metadata": {
        "colab": {
          "base_uri": "https://localhost:8080/"
        },
        "id": "uR_vIcCdUDov",
        "outputId": "82e53526-f6e4-449d-a749-8572ed3b2834"
      },
      "execution_count": 51,
      "outputs": [
        {
          "output_type": "stream",
          "name": "stdout",
          "text": [
            "{1, 2, 5, 6}\n"
          ]
        }
      ]
    },
    {
      "cell_type": "code",
      "source": [
        "A.update([4,7,8]) # menambah angka secara banyak\n",
        "print(A)"
      ],
      "metadata": {
        "colab": {
          "base_uri": "https://localhost:8080/"
        },
        "id": "U2IFV7D8UMYH",
        "outputId": "82d4dffa-f1f7-45e5-f38f-81c03c43a926"
      },
      "execution_count": 52,
      "outputs": [
        {
          "output_type": "stream",
          "name": "stdout",
          "text": [
            "{1, 2, 4, 5, 6, 7, 8}\n"
          ]
        }
      ]
    },
    {
      "cell_type": "code",
      "source": [
        "B = {4, 5, 6}"
      ],
      "metadata": {
        "id": "l5ACww3cUQ-x"
      },
      "execution_count": 53,
      "outputs": []
    },
    {
      "cell_type": "code",
      "source": [
        "print(A.union(B)) # menggabungkan 2 set"
      ],
      "metadata": {
        "colab": {
          "base_uri": "https://localhost:8080/"
        },
        "id": "uZAso1ogUX4Y",
        "outputId": "b2f98da0-a62e-4001-bb12-10baccc3e53a"
      },
      "execution_count": 54,
      "outputs": [
        {
          "output_type": "stream",
          "name": "stdout",
          "text": [
            "{1, 2, 4, 5, 6, 7, 8}\n"
          ]
        }
      ]
    },
    {
      "cell_type": "code",
      "source": [
        "print(A & B) # mengambil nilai yang sama di antara 2 set"
      ],
      "metadata": {
        "colab": {
          "base_uri": "https://localhost:8080/"
        },
        "id": "y7_UD52-Uaj4",
        "outputId": "f3a4dffc-cee5-4e45-d249-c8610acb9b82"
      },
      "execution_count": 55,
      "outputs": [
        {
          "output_type": "stream",
          "name": "stdout",
          "text": [
            "{4, 5, 6}\n"
          ]
        }
      ]
    },
    {
      "cell_type": "code",
      "source": [
        "C = {7, 8, 9}\n",
        "list(C) # mengubah set menjadi list"
      ],
      "metadata": {
        "colab": {
          "base_uri": "https://localhost:8080/"
        },
        "id": "LOQAc1YAVO6l",
        "outputId": "233bcf67-1fea-4492-9c40-b7bce29e78bc"
      },
      "execution_count": 56,
      "outputs": [
        {
          "output_type": "execute_result",
          "data": {
            "text/plain": [
              "[8, 9, 7]"
            ]
          },
          "metadata": {},
          "execution_count": 56
        }
      ]
    },
    {
      "cell_type": "code",
      "source": [
        "D = {9, 10, 11}\n",
        "tuple(D) # mengubah set menjadi tuple"
      ],
      "metadata": {
        "colab": {
          "base_uri": "https://localhost:8080/"
        },
        "id": "dIX0lYGZVXRH",
        "outputId": "f617d56a-c272-4129-aee7-049edcd0a899"
      },
      "execution_count": 57,
      "outputs": [
        {
          "output_type": "execute_result",
          "data": {
            "text/plain": [
              "(9, 10, 11)"
            ]
          },
          "metadata": {},
          "execution_count": 57
        }
      ]
    },
    {
      "cell_type": "markdown",
      "source": [
        "## DICTIONARY"
      ],
      "metadata": {
        "id": "izfgxoX2UrES"
      }
    },
    {
      "cell_type": "markdown",
      "source": [
        "Dictionary memiliki keunikan yaitu mempunyai **key** dan **value**"
      ],
      "metadata": {
        "id": "VS3iyZP-WWE7"
      }
    },
    {
      "cell_type": "code",
      "source": [
        "numbers = {'one' : 1, 'two' : 2, 'three' : 3}"
      ],
      "metadata": {
        "id": "IuE3fKW4Ucq3"
      },
      "execution_count": 58,
      "outputs": []
    },
    {
      "cell_type": "code",
      "source": [
        "numbers['one']"
      ],
      "metadata": {
        "colab": {
          "base_uri": "https://localhost:8080/"
        },
        "id": "9aZ7-vUUXCI4",
        "outputId": "b10afeb3-e3ec-465a-d9fe-9717c08ab408"
      },
      "execution_count": 59,
      "outputs": [
        {
          "output_type": "execute_result",
          "data": {
            "text/plain": [
              "1"
            ]
          },
          "metadata": {},
          "execution_count": 59
        }
      ]
    },
    {
      "cell_type": "code",
      "source": [
        "numbers['two']"
      ],
      "metadata": {
        "colab": {
          "base_uri": "https://localhost:8080/"
        },
        "id": "un8aqBBBXD2_",
        "outputId": "98d6fddd-a8e2-42f6-d866-16525a604276"
      },
      "execution_count": 60,
      "outputs": [
        {
          "output_type": "execute_result",
          "data": {
            "text/plain": [
              "2"
            ]
          },
          "metadata": {},
          "execution_count": 60
        }
      ]
    },
    {
      "cell_type": "code",
      "source": [
        "for k in numbers:\n",
        "  print('{} = {}'.format(k, numbers[k]))"
      ],
      "metadata": {
        "colab": {
          "base_uri": "https://localhost:8080/"
        },
        "id": "30sv5aXdXH6K",
        "outputId": "30fe480f-0636-4219-f153-9647d99da247"
      },
      "execution_count": 61,
      "outputs": [
        {
          "output_type": "stream",
          "name": "stdout",
          "text": [
            "one = 1\n",
            "two = 2\n",
            "three = 3\n"
          ]
        }
      ]
    },
    {
      "cell_type": "code",
      "source": [
        "for key in numbers.values():\n",
        "  print('{}'.format(key))"
      ],
      "metadata": {
        "colab": {
          "base_uri": "https://localhost:8080/"
        },
        "id": "487WXGLlXPx1",
        "outputId": "8b9601f9-0217-4f92-e741-6437450ba236"
      },
      "execution_count": 62,
      "outputs": [
        {
          "output_type": "stream",
          "name": "stdout",
          "text": [
            "1\n",
            "2\n",
            "3\n"
          ]
        }
      ]
    },
    {
      "cell_type": "code",
      "source": [
        "for key, value in numbers.items():\n",
        "  print('{} = {}'.format(key, value))"
      ],
      "metadata": {
        "colab": {
          "base_uri": "https://localhost:8080/"
        },
        "id": "xXgoTAK_XW2v",
        "outputId": "b156b811-d6b5-441b-e973-1b2bac24cf8a"
      },
      "execution_count": 63,
      "outputs": [
        {
          "output_type": "stream",
          "name": "stdout",
          "text": [
            "one = 1\n",
            "two = 2\n",
            "three = 3\n"
          ]
        }
      ]
    },
    {
      "cell_type": "code",
      "source": [
        "for key in numbers.values():\n",
        "  print(\"{}\".format(key))"
      ],
      "metadata": {
        "colab": {
          "base_uri": "https://localhost:8080/"
        },
        "id": "CJZv3ggrXf9L",
        "outputId": "047d581b-f2a4-495b-dd9e-1683995b6656"
      },
      "execution_count": 64,
      "outputs": [
        {
          "output_type": "stream",
          "name": "stdout",
          "text": [
            "1\n",
            "2\n",
            "3\n"
          ]
        }
      ]
    },
    {
      "cell_type": "code",
      "source": [
        "'one' in numbers"
      ],
      "metadata": {
        "colab": {
          "base_uri": "https://localhost:8080/"
        },
        "id": "sEyXKY5XIajY",
        "outputId": "a5216d19-2301-4e69-f7ef-d6c82bdb85a1"
      },
      "execution_count": 65,
      "outputs": [
        {
          "output_type": "execute_result",
          "data": {
            "text/plain": [
              "True"
            ]
          },
          "metadata": {},
          "execution_count": 65
        }
      ]
    },
    {
      "cell_type": "code",
      "source": [
        "'6' in numbers"
      ],
      "metadata": {
        "colab": {
          "base_uri": "https://localhost:8080/"
        },
        "id": "yome13c4IdBX",
        "outputId": "7fed207c-6eed-403e-c550-585ada173228"
      },
      "execution_count": 66,
      "outputs": [
        {
          "output_type": "execute_result",
          "data": {
            "text/plain": [
              "False"
            ]
          },
          "metadata": {},
          "execution_count": 66
        }
      ]
    }
  ]
}