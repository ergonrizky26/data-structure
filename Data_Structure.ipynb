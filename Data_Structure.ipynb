{
  "nbformat": 4,
  "nbformat_minor": 0,
  "metadata": {
    "colab": {
      "provenance": [],
      "authorship_tag": "ABX9TyOHspdlidpsX5Q04yF0BIYU",
      "include_colab_link": true
    },
    "kernelspec": {
      "name": "python3",
      "display_name": "Python 3"
    },
    "language_info": {
      "name": "python"
    }
  },
  "cells": [
    {
      "cell_type": "markdown",
      "metadata": {
        "id": "view-in-github",
        "colab_type": "text"
      },
      "source": [
        "<a href=\"https://colab.research.google.com/github/ergonrizky26/data-structure/blob/main/Data_Structure.ipynb\" target=\"_parent\"><img src=\"https://colab.research.google.com/assets/colab-badge.svg\" alt=\"Open In Colab\"/></a>"
      ]
    },
    {
      "cell_type": "markdown",
      "source": [
        "## LIST"
      ],
      "metadata": {
        "id": "dVjXMJg9IuCH"
      }
    },
    {
      "cell_type": "markdown",
      "source": [
        "\n",
        "\n",
        "*   List berisi koleksi nilai/data\n",
        "*   List bisa berubah\n",
        "*   List bisa berisi tipe data apapun dan tidak harus semua data berisi tipe data yang sama\n",
        "\n"
      ],
      "metadata": {
        "id": "-M1jtO5lIyo9"
      }
    },
    {
      "cell_type": "code",
      "execution_count": 16,
      "metadata": {
        "id": "k5e7yOHFIjCl"
      },
      "outputs": [],
      "source": [
        "A = ['Jakarta', 'Bali', 'Jogja', 'Manado'] # Terdapat 4 elemen\n",
        "B = ['Ibi', 0, True] # Terdapat 3 elemen\n",
        "C = [2, 1] # Terdapat 2 elemen"
      ]
    },
    {
      "cell_type": "markdown",
      "source": [
        "### Indexing"
      ],
      "metadata": {
        "id": "BSTCJ8_qJcr7"
      }
    },
    {
      "cell_type": "code",
      "source": [
        "print(A[0]) # memanggil elemen pertama\n",
        "print(A[1]) # memanggil elemen kedua\n",
        "print(A[-1]) # memanggil elemen awal dari posisi terakhir\n",
        "print(A[-2]) # memanggil elemen kedua dari posisi terakhir"
      ],
      "metadata": {
        "colab": {
          "base_uri": "https://localhost:8080/"
        },
        "id": "7fIC3xifJYC8",
        "outputId": "8f2cb63d-e4a8-4b9d-c830-96a61ccf5cda"
      },
      "execution_count": 17,
      "outputs": [
        {
          "output_type": "stream",
          "name": "stdout",
          "text": [
            "Jakarta\n",
            "Bali\n",
            "Manado\n",
            "Jogja\n"
          ]
        }
      ]
    },
    {
      "cell_type": "markdown",
      "source": [
        "### Slicing"
      ],
      "metadata": {
        "id": "UZb1S2vaJvgt"
      }
    },
    {
      "cell_type": "code",
      "source": [
        "print(A[:2]) # memanggil index 0 dan 1\n",
        "print(A[1:2]) # memangil index 1 saja\n",
        "print(A[0:4:2]) # memanggil index 0 dan 2"
      ],
      "metadata": {
        "colab": {
          "base_uri": "https://localhost:8080/"
        },
        "id": "mkPttkY9Jt9V",
        "outputId": "2f1e5588-836b-4e66-fcc5-d3d06b076d78"
      },
      "execution_count": 18,
      "outputs": [
        {
          "output_type": "stream",
          "name": "stdout",
          "text": [
            "['Jakarta', 'Bali']\n",
            "['Bali']\n",
            "['Jakarta', 'Jogja']\n"
          ]
        }
      ]
    },
    {
      "cell_type": "code",
      "source": [
        "A[1] = 'Surabaya' # mengubah/update nilai pada list\n",
        "print(A)"
      ],
      "metadata": {
        "colab": {
          "base_uri": "https://localhost:8080/"
        },
        "id": "vDCzdT9XKE0E",
        "outputId": "b6f64736-9f0d-4aab-aae2-630ac692b5cf"
      },
      "execution_count": 19,
      "outputs": [
        {
          "output_type": "stream",
          "name": "stdout",
          "text": [
            "['Jakarta', 'Surabaya', 'Jogja', 'Manado']\n"
          ]
        }
      ]
    },
    {
      "cell_type": "code",
      "source": [
        "result = A + B # menggabungkan 2 list \n",
        "print(result)"
      ],
      "metadata": {
        "colab": {
          "base_uri": "https://localhost:8080/"
        },
        "id": "FUZIlOSHK_Rj",
        "outputId": "b0c6df01-c013-4c33-9456-7fa845335e2f"
      },
      "execution_count": 20,
      "outputs": [
        {
          "output_type": "stream",
          "name": "stdout",
          "text": [
            "['Jakarta', 'Surabaya', 'Jogja', 'Manado', 'Ibi', 0, True]\n"
          ]
        }
      ]
    },
    {
      "cell_type": "code",
      "source": [
        "A.append('Balikpapan') # menambah nilai pada list dengan posisi index paling terakhir\n",
        "print(A)\n",
        "A.insert(2, 'Budi') # menambah/memasukkan nilai pada list dengan elemen tertentu\n",
        "print(A)"
      ],
      "metadata": {
        "colab": {
          "base_uri": "https://localhost:8080/"
        },
        "id": "9LgKNT5DLVV1",
        "outputId": "7c819b46-530e-4702-b656-07b52e9a9636"
      },
      "execution_count": 21,
      "outputs": [
        {
          "output_type": "stream",
          "name": "stdout",
          "text": [
            "['Jakarta', 'Surabaya', 'Jogja', 'Manado', 'Balikpapan']\n",
            "['Jakarta', 'Surabaya', 'Budi', 'Jogja', 'Manado', 'Balikpapan']\n"
          ]
        }
      ]
    },
    {
      "cell_type": "code",
      "source": [
        "del(A[0]) # delete nilai pada list dengan elemen tertentu\n",
        "print(A)"
      ],
      "metadata": {
        "colab": {
          "base_uri": "https://localhost:8080/"
        },
        "id": "S6KCsQvFLqHt",
        "outputId": "528270fc-e248-4505-f673-7a30940b4f67"
      },
      "execution_count": 22,
      "outputs": [
        {
          "output_type": "stream",
          "name": "stdout",
          "text": [
            "['Surabaya', 'Budi', 'Jogja', 'Manado', 'Balikpapan']\n"
          ]
        }
      ]
    },
    {
      "cell_type": "code",
      "source": [
        "A.remove('Surabaya') # menghapus nilai pada list\n",
        "print(A)"
      ],
      "metadata": {
        "colab": {
          "base_uri": "https://localhost:8080/"
        },
        "id": "bD9ULq65L2-j",
        "outputId": "e7046d46-d3c1-4b96-e978-0e057915dc85"
      },
      "execution_count": 23,
      "outputs": [
        {
          "output_type": "stream",
          "name": "stdout",
          "text": [
            "['Budi', 'Jogja', 'Manado', 'Balikpapan']\n"
          ]
        }
      ]
    },
    {
      "cell_type": "code",
      "source": [
        "print(len(A)) # menghitung panjang elemen pada list"
      ],
      "metadata": {
        "colab": {
          "base_uri": "https://localhost:8080/"
        },
        "id": "tFj7jw0SL-3q",
        "outputId": "f303c8c5-db1a-475a-db5b-4ed000730c2a"
      },
      "execution_count": 25,
      "outputs": [
        {
          "output_type": "stream",
          "name": "stdout",
          "text": [
            "4\n"
          ]
        }
      ]
    },
    {
      "cell_type": "code",
      "source": [
        "A = []\n",
        "type(A)"
      ],
      "metadata": {
        "colab": {
          "base_uri": "https://localhost:8080/"
        },
        "id": "z1mfvogtMeYx",
        "outputId": "cc8fdbf3-7e3c-4205-f175-865132a4aca4"
      },
      "execution_count": 26,
      "outputs": [
        {
          "output_type": "execute_result",
          "data": {
            "text/plain": [
              "list"
            ]
          },
          "metadata": {},
          "execution_count": 26
        }
      ]
    },
    {
      "cell_type": "code",
      "source": [
        "A.append(1)\n",
        "print(A)"
      ],
      "metadata": {
        "colab": {
          "base_uri": "https://localhost:8080/"
        },
        "id": "beXwv7I2MnG-",
        "outputId": "3a0bdb1d-5e69-4fb6-d5b6-d8315d0727f0"
      },
      "execution_count": 27,
      "outputs": [
        {
          "output_type": "stream",
          "name": "stdout",
          "text": [
            "[1]\n"
          ]
        }
      ]
    },
    {
      "cell_type": "markdown",
      "source": [
        "## TUPLE"
      ],
      "metadata": {
        "id": "46szh-mBMwUG"
      }
    },
    {
      "cell_type": "markdown",
      "source": [
        "Sama dengan list namun tidak dapat merubah nilai elemen suatu tuple "
      ],
      "metadata": {
        "id": "BuMe3nivP-S3"
      }
    },
    {
      "cell_type": "code",
      "source": [
        "A = ('Jakarta', 'Bali', 'Jogja', 2)"
      ],
      "metadata": {
        "id": "44UW2_mTMrYE"
      },
      "execution_count": 28,
      "outputs": []
    },
    {
      "cell_type": "code",
      "source": [
        "print(A[0:2])\n",
        "print(A[0])"
      ],
      "metadata": {
        "colab": {
          "base_uri": "https://localhost:8080/"
        },
        "id": "0-F-TcmlQO8C",
        "outputId": "f25053e9-ce07-45b2-ebfe-2fc4ee2a5b54"
      },
      "execution_count": 29,
      "outputs": [
        {
          "output_type": "stream",
          "name": "stdout",
          "text": [
            "('Jakarta', 'Bali')\n",
            "Jakarta\n"
          ]
        }
      ]
    },
    {
      "cell_type": "code",
      "source": [
        "A = ()\n",
        "A = (1,)\n",
        "type(A)"
      ],
      "metadata": {
        "colab": {
          "base_uri": "https://localhost:8080/"
        },
        "id": "97QAnP4YRbNM",
        "outputId": "56c77aa0-62d8-4b09-b29e-92043d5398b2"
      },
      "execution_count": 30,
      "outputs": [
        {
          "output_type": "execute_result",
          "data": {
            "text/plain": [
              "tuple"
            ]
          },
          "metadata": {},
          "execution_count": 30
        }
      ]
    },
    {
      "cell_type": "markdown",
      "source": [
        "## SET"
      ],
      "metadata": {
        "id": "RY4lBjjkSXQ5"
      }
    },
    {
      "cell_type": "markdown",
      "source": [
        "\n",
        "\n",
        "1.   Set tidak memiliki koordinat/index tiap anggotanya, jadi untuk set posisi anggota dianggap tidak penting \n",
        "2.   Set tidak dapat memiliki lebih dari satu anggota dengan nilai yang sama\n",
        "\n"
      ],
      "metadata": {
        "id": "mAX_4IciSbjE"
      }
    },
    {
      "cell_type": "code",
      "source": [
        "A = {4, 5, 6, 2}"
      ],
      "metadata": {
        "id": "XUNeiGKuR35W"
      },
      "execution_count": 31,
      "outputs": []
    },
    {
      "cell_type": "code",
      "source": [
        "# print(A[1])  # tidak bisa dilakukan indexing"
      ],
      "metadata": {
        "id": "d-qs_q4cTKyk"
      },
      "execution_count": 35,
      "outputs": []
    },
    {
      "cell_type": "code",
      "source": [
        "A.discard(4) # untuk membuang angka\n",
        "print(A)"
      ],
      "metadata": {
        "colab": {
          "base_uri": "https://localhost:8080/"
        },
        "id": "hTlynO0mTMbL",
        "outputId": "86bb872f-41a8-46ce-e0f3-b75919a20bca"
      },
      "execution_count": 37,
      "outputs": [
        {
          "output_type": "stream",
          "name": "stdout",
          "text": [
            "{2, 5, 6}\n"
          ]
        }
      ]
    },
    {
      "cell_type": "code",
      "source": [
        "A.add(1) # menambah angka\n",
        "print(A)"
      ],
      "metadata": {
        "colab": {
          "base_uri": "https://localhost:8080/"
        },
        "id": "uR_vIcCdUDov",
        "outputId": "045b8830-5ad2-4006-a10f-1255fa615681"
      },
      "execution_count": 39,
      "outputs": [
        {
          "output_type": "stream",
          "name": "stdout",
          "text": [
            "{1, 2, 5, 6}\n"
          ]
        }
      ]
    },
    {
      "cell_type": "code",
      "source": [
        "A.update([4,7,8]) # menambah angka secara banyak\n",
        "print(A)"
      ],
      "metadata": {
        "colab": {
          "base_uri": "https://localhost:8080/"
        },
        "id": "U2IFV7D8UMYH",
        "outputId": "b37c09fb-0e9c-4738-c836-230437a03d87"
      },
      "execution_count": 41,
      "outputs": [
        {
          "output_type": "stream",
          "name": "stdout",
          "text": [
            "{1, 2, 4, 5, 6, 7, 8}\n"
          ]
        }
      ]
    },
    {
      "cell_type": "code",
      "source": [
        "B = {4, 5, 6}"
      ],
      "metadata": {
        "id": "l5ACww3cUQ-x"
      },
      "execution_count": 42,
      "outputs": []
    },
    {
      "cell_type": "code",
      "source": [
        "print(A.union(B)) # menggabungkan 2 set"
      ],
      "metadata": {
        "colab": {
          "base_uri": "https://localhost:8080/"
        },
        "id": "uZAso1ogUX4Y",
        "outputId": "ca45346e-e8a7-4c74-cae1-c97bd01c120f"
      },
      "execution_count": 45,
      "outputs": [
        {
          "output_type": "stream",
          "name": "stdout",
          "text": [
            "{1, 2, 4, 5, 6, 7, 8}\n"
          ]
        }
      ]
    },
    {
      "cell_type": "code",
      "source": [
        "print(A & B) # mengambil nilai yang sama di antara 2 set"
      ],
      "metadata": {
        "colab": {
          "base_uri": "https://localhost:8080/"
        },
        "id": "y7_UD52-Uaj4",
        "outputId": "4ffc2534-88e8-459d-ff95-db5d309f8860"
      },
      "execution_count": 49,
      "outputs": [
        {
          "output_type": "stream",
          "name": "stdout",
          "text": [
            "{4, 5, 6}\n"
          ]
        }
      ]
    },
    {
      "cell_type": "code",
      "source": [
        "C = {7, 8, 9}\n",
        "list(C) # mengubah set menjadi list"
      ],
      "metadata": {
        "colab": {
          "base_uri": "https://localhost:8080/"
        },
        "id": "LOQAc1YAVO6l",
        "outputId": "9d181020-7cd8-428f-828b-f4f365666d1d"
      },
      "execution_count": 50,
      "outputs": [
        {
          "output_type": "execute_result",
          "data": {
            "text/plain": [
              "[8, 9, 7]"
            ]
          },
          "metadata": {},
          "execution_count": 50
        }
      ]
    },
    {
      "cell_type": "code",
      "source": [
        "D = {9, 10, 11}\n",
        "tuple(D) # mengubah set menjadi tuple"
      ],
      "metadata": {
        "colab": {
          "base_uri": "https://localhost:8080/"
        },
        "id": "dIX0lYGZVXRH",
        "outputId": "db172358-cd34-4c0e-960c-b573eeba47e3"
      },
      "execution_count": 51,
      "outputs": [
        {
          "output_type": "execute_result",
          "data": {
            "text/plain": [
              "(9, 10, 11)"
            ]
          },
          "metadata": {},
          "execution_count": 51
        }
      ]
    },
    {
      "cell_type": "markdown",
      "source": [
        "## DICTIONARY"
      ],
      "metadata": {
        "id": "izfgxoX2UrES"
      }
    },
    {
      "cell_type": "markdown",
      "source": [
        "Dictionary memiliki keunikan yaitu mempunyai **key** dan **value**"
      ],
      "metadata": {
        "id": "VS3iyZP-WWE7"
      }
    },
    {
      "cell_type": "code",
      "source": [
        "numbers = {'one' : 1, 'two' : 2, 'three' : 3}"
      ],
      "metadata": {
        "id": "IuE3fKW4Ucq3"
      },
      "execution_count": 52,
      "outputs": []
    },
    {
      "cell_type": "code",
      "source": [
        "numbers['one']"
      ],
      "metadata": {
        "colab": {
          "base_uri": "https://localhost:8080/"
        },
        "id": "9aZ7-vUUXCI4",
        "outputId": "b9f0e8d4-e37a-4dbd-da30-7072e719f84d"
      },
      "execution_count": 53,
      "outputs": [
        {
          "output_type": "execute_result",
          "data": {
            "text/plain": [
              "1"
            ]
          },
          "metadata": {},
          "execution_count": 53
        }
      ]
    },
    {
      "cell_type": "code",
      "source": [
        "numbers['two']"
      ],
      "metadata": {
        "colab": {
          "base_uri": "https://localhost:8080/"
        },
        "id": "un8aqBBBXD2_",
        "outputId": "dd6cfa27-08e2-41bd-954c-46bb885af494"
      },
      "execution_count": 54,
      "outputs": [
        {
          "output_type": "execute_result",
          "data": {
            "text/plain": [
              "2"
            ]
          },
          "metadata": {},
          "execution_count": 54
        }
      ]
    },
    {
      "cell_type": "code",
      "source": [
        "for k in numbers:\n",
        "  print('{} = {}'.format(k, numbers[k]))"
      ],
      "metadata": {
        "colab": {
          "base_uri": "https://localhost:8080/"
        },
        "id": "30sv5aXdXH6K",
        "outputId": "f64a4371-8a59-4da9-d8dc-3c15d8055a95"
      },
      "execution_count": 56,
      "outputs": [
        {
          "output_type": "stream",
          "name": "stdout",
          "text": [
            "one = 1\n",
            "two = 2\n",
            "three = 3\n"
          ]
        }
      ]
    },
    {
      "cell_type": "code",
      "source": [
        "for key in numbers.values():\n",
        "  print('{}'.format(key))"
      ],
      "metadata": {
        "colab": {
          "base_uri": "https://localhost:8080/"
        },
        "id": "487WXGLlXPx1",
        "outputId": "9261717a-14c2-4ed2-94ae-8bea92f13df2"
      },
      "execution_count": 57,
      "outputs": [
        {
          "output_type": "stream",
          "name": "stdout",
          "text": [
            "1\n",
            "2\n",
            "3\n"
          ]
        }
      ]
    },
    {
      "cell_type": "code",
      "source": [
        "for key, value in numbers.items():\n",
        "  print('{} = {}'.format(key, value))"
      ],
      "metadata": {
        "colab": {
          "base_uri": "https://localhost:8080/"
        },
        "id": "xXgoTAK_XW2v",
        "outputId": "761ff27f-152c-44fa-e8df-f047ba509af3"
      },
      "execution_count": 60,
      "outputs": [
        {
          "output_type": "stream",
          "name": "stdout",
          "text": [
            "one = 1\n",
            "two = 2\n",
            "three = 3\n"
          ]
        }
      ]
    },
    {
      "cell_type": "code",
      "source": [],
      "metadata": {
        "id": "CJZv3ggrXf9L"
      },
      "execution_count": null,
      "outputs": []
    }
  ]
}